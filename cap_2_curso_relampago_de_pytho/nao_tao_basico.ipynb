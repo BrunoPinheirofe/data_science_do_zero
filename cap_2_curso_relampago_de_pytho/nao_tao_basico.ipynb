{
 "cells": [
  {
   "cell_type": "markdown",
   "metadata": {},
   "source": [
    "# Não Tão Básico"
   ]
  },
  {
   "cell_type": "markdown",
   "metadata": {},
   "source": [
    "## Ordenação\n",
    "\n",
    "A ordenação de listas em Python pode ser feita de várias maneiras. A maneira mais comum é usar o método `sort()` ou a função `sorted()`.\n",
    "\n",
    "- `sort()`: Este método ordena a lista no local, ou seja, modifica a lista original.\n",
    "- `sorted()`: Esta função retorna uma nova lista ordenada a partir da lista original, sem modificar a lista original.\n",
    "\n",
    "Ambos os métodos podem receber argumentos opcionais, como `reverse=True` para ordenar em ordem decrescente e `key` para especificar uma função de chave para personalizar a ordenação."
   ]
  },
  {
   "cell_type": "code",
   "execution_count": 2,
   "metadata": {},
   "outputs": [
    {
     "name": "stdout",
     "output_type": "stream",
     "text": [
      "[1, 2, 3, 4]\n",
      "[1, 2, 3, 4]\n"
     ]
    }
   ],
   "source": [
    "x = [4,1,2,3]\n",
    "y = sorted(x)\n",
    "print(y)\n",
    "x.sort()\n",
    "print(x)"
   ]
  },
  {
   "cell_type": "markdown",
   "metadata": {},
   "source": [
    "Em vez de comparar os elementos\n",
    "com eles mesmos, compare os resultados da função que você especificar com\n",
    "key"
   ]
  },
  {
   "cell_type": "code",
   "execution_count": 3,
   "metadata": {},
   "outputs": [],
   "source": [
    "x = sorted([-4,1,-2,3], key=abs, reverse=True)"
   ]
  },
  {
   "cell_type": "markdown",
   "metadata": {},
   "source": [
    "## Compreensões de Lista\n",
    "\n",
    "Podemos transformar uma lista em outra, escolhendo apenas alguns elementos, transformando tais elementos ou ambos."
   ]
  },
  {
   "cell_type": "code",
   "execution_count": 4,
   "metadata": {},
   "outputs": [
    {
     "name": "stdout",
     "output_type": "stream",
     "text": [
      "[0, 2, 4]\n",
      "[0, 1, 4, 9, 16]\n",
      "[0, 4, 16]\n"
     ]
    }
   ],
   "source": [
    "even_numbers = [x for x in range(5) if x % 2 == 0]\n",
    "print(even_numbers)\n",
    "\n",
    "squares = [x * x for x in range(5)]\n",
    "print(squares)\n",
    "\n",
    "even_squares = [x * x for x in even_numbers]\n",
    "print(even_squares)"
   ]
  },
  {
   "cell_type": "markdown",
   "metadata": {},
   "source": [
    "Podemos ter esse mesmo comportamento com os dicionários"
   ]
  },
  {
   "cell_type": "code",
   "execution_count": 5,
   "metadata": {},
   "outputs": [
    {
     "name": "stdout",
     "output_type": "stream",
     "text": [
      "{0: 0, 1: 1, 2: 4, 3: 9, 4: 16}\n"
     ]
    }
   ],
   "source": [
    "square_dict = {\n",
    "    x: x*x for x in range(5)\n",
    "}\n",
    "\n",
    "print(square_dict)"
   ]
  },
  {
   "cell_type": "markdown",
   "metadata": {},
   "source": [
    "Se o valor da lista não for utilizado, usamos o sublinhado como variável"
   ]
  },
  {
   "cell_type": "code",
   "execution_count": 6,
   "metadata": {},
   "outputs": [],
   "source": [
    "zeros = [0 for _ in range(5)]"
   ]
  },
  {
   "cell_type": "markdown",
   "metadata": {},
   "source": [
    "Uma compreensão de lista pode conter múltiplos `for`"
   ]
  },
  {
   "cell_type": "code",
   "execution_count": 7,
   "metadata": {},
   "outputs": [
    {
     "name": "stdout",
     "output_type": "stream",
     "text": [
      "[(0, 0), (0, 1), (0, 2), (0, 3), (0, 4), (1, 0), (1, 1), (1, 2), (1, 3), (1, 4), (2, 0), (2, 1), (2, 2), (2, 3), (2, 4), (3, 0), (3, 1), (3, 2), (3, 3), (3, 4), (4, 0), (4, 1), (4, 2), (4, 3), (4, 4)]\n"
     ]
    }
   ],
   "source": [
    "pairs = [\n",
    "    (x,y) for x in range(5)\n",
    "          for y in range(5)\n",
    "]\n",
    "print(pairs)"
   ]
  },
  {
   "cell_type": "markdown",
   "metadata": {},
   "source": [
    "e os for que vêm depois podem usar os resultados dos primeiros:"
   ]
  },
  {
   "cell_type": "code",
   "execution_count": 8,
   "metadata": {},
   "outputs": [
    {
     "name": "stdout",
     "output_type": "stream",
     "text": [
      "[(0, 1), (0, 2), (0, 3), (0, 4), (0, 5), (0, 6), (0, 7), (0, 8), (0, 9), (1, 2), (1, 3), (1, 4), (1, 5), (1, 6), (1, 7), (1, 8), (1, 9), (2, 3), (2, 4), (2, 5), (2, 6), (2, 7), (2, 8), (2, 9), (3, 4), (3, 5), (3, 6), (3, 7), (3, 8), (3, 9), (4, 5), (4, 6), (4, 7), (4, 8), (4, 9), (5, 6), (5, 7), (5, 8), (5, 9), (6, 7), (6, 8), (6, 9), (7, 8), (7, 9), (8, 9)]\n"
     ]
    }
   ],
   "source": [
    "increasing_pairs = [(x, y) # somente pares com x < y,\n",
    "    for x in range(10) # range(lo, hi) é igual a\n",
    "    for y in range(x + 1, 10)] # [lo, lo + 1, ..., hi - 1]\n",
    "print(increasing_pairs)"
   ]
  },
  {
   "cell_type": "markdown",
   "metadata": {},
   "source": [
    "## "
   ]
  },
  {
   "cell_type": "markdown",
   "metadata": {},
   "source": [
    "## Geradores e Iteradores\n",
    "\n",
    "Geradores são uma forma especial de iteradores em Python que permitem a criação de iteradores de maneira mais simples e eficiente. Eles são definidos usando funções e a palavra-chave `yield`.\n",
    "\n",
    "- **Funções Geradoras**: São funções que utilizam `yield` para retornar valores um de cada vez, suspendendo seu estado entre as chamadas. Quando a função é chamada novamente, a execução continua de onde parou, mantendo o estado das variáveis locais.\n",
    "\n",
    "- **Yield**: A palavra-chave `yield` é usada para produzir uma série de valores ao longo do tempo, em vez de retornar um único valor como uma função tradicional. Cada vez que `yield` é chamado, o estado da função é salvo, permitindo que a execução seja retomada posteriormente.\n",
    "\n"
   ]
  },
  {
   "cell_type": "code",
   "execution_count": 9,
   "metadata": {},
   "outputs": [
    {
     "name": "stdout",
     "output_type": "stream",
     "text": [
      "0\n",
      "1\n",
      "2\n",
      "3\n",
      "4\n"
     ]
    }
   ],
   "source": [
    "def lazy_range(n):\n",
    "    \"\"\"uma versão preguisosa do range\"\"\"\n",
    "    i = 0\n",
    "    while i < n:\n",
    "        yield i\n",
    "        i += 1\n",
    "\n",
    "for i in lazy_range(5):\n",
    "    print(i)\n",
    "    \n"
   ]
  },
  {
   "cell_type": "markdown",
   "metadata": {},
   "source": [
    "Outra forma de criar geradores é usar compreensões de `for` dentro de parênteses\n"
   ]
  },
  {
   "cell_type": "code",
   "execution_count": 10,
   "metadata": {},
   "outputs": [],
   "source": [
    "lazy_envens_below_20 = (i for i in lazy_range(20) if i % 2 ==0)\n"
   ]
  },
  {
   "cell_type": "markdown",
   "metadata": {},
   "source": [
    "\n",
    "## Aleatoriedade\n",
    "\n",
    "Para gerar números aleatórios com python é usado o módulo `random` \n"
   ]
  },
  {
   "cell_type": "code",
   "execution_count": 11,
   "metadata": {},
   "outputs": [
    {
     "name": "stdout",
     "output_type": "stream",
     "text": [
      "[0.05264137523717871, 0.6448676596995354, 0.026132424948310362, 0.8452560339026762]\n"
     ]
    }
   ],
   "source": [
    "import random\n",
    "four_uniform_randoms = [random.random() for _ in range(4)]\n",
    "print(four_uniform_randoms)"
   ]
  },
  {
   "cell_type": "markdown",
   "metadata": {},
   "source": [
    "O módulo `random` de fato produz números pseudoaleatórios (ou seja,\n",
    "determinísticos) baseado em um estado interno que você pode configurar com\n",
    "`random.seed` se quiser obter resultados reproduzíveis"
   ]
  },
  {
   "cell_type": "code",
   "execution_count": 12,
   "metadata": {},
   "outputs": [
    {
     "name": "stdout",
     "output_type": "stream",
     "text": [
      "0.5714025946899135\n",
      "0.5714025946899135\n"
     ]
    }
   ],
   "source": [
    "random.seed(10)\n",
    "# configura seed para 10\n",
    "print(random.random()) # 0.57140259469\n",
    "random.seed(10)\n",
    "# reinicia seed para 10\n",
    "print(random.random()) # 0.57140259469 novamente"
   ]
  },
  {
   "cell_type": "markdown",
   "metadata": {},
   "source": [
    "`random.randrange` leva um ou dois argumentos e retorna um\n",
    "elemento escolhido aleatoriamente do range() correspondente"
   ]
  },
  {
   "cell_type": "code",
   "execution_count": 13,
   "metadata": {},
   "outputs": [
    {
     "data": {
      "text/plain": [
       "4"
      ]
     },
     "execution_count": 13,
     "metadata": {},
     "output_type": "execute_result"
    }
   ],
   "source": [
    "random.randrange(10) # escolhe aleatoriamente de range(10) = [0, 1, ..., 9]\n",
    "random.randrange(3, 6) # escolhe aleatoriamente de range(3, 6) = [3, 4, 5]"
   ]
  },
  {
   "cell_type": "markdown",
   "metadata": {},
   "source": [
    "`random.shuffle` reordena os elementos de uma lista aleatoriamente"
   ]
  },
  {
   "cell_type": "code",
   "execution_count": 14,
   "metadata": {},
   "outputs": [
    {
     "name": "stdout",
     "output_type": "stream",
     "text": [
      "[4, 5, 8, 1, 2, 6, 7, 3, 0, 9]\n"
     ]
    }
   ],
   "source": [
    "up_to_ten = list(range(10))\n",
    "random.shuffle(up_to_ten)\n",
    "print(up_to_ten)"
   ]
  },
  {
   "cell_type": "markdown",
   "metadata": {},
   "source": [
    "precisar escolher aleatoriamente uma amostra dos elementos sem\n",
    "substituição (por exemplo, sem duplicatas), você pode usar `random.sample`"
   ]
  },
  {
   "cell_type": "code",
   "execution_count": 15,
   "metadata": {},
   "outputs": [
    {
     "name": "stdout",
     "output_type": "stream",
     "text": [
      "[20, 4, 15, 47, 23, 2]\n"
     ]
    }
   ],
   "source": [
    "lottery_numbers = range(60)\n",
    "winning_numbers = random.sample(lottery_numbers, 6) \n",
    "print(winning_numbers)"
   ]
  },
  {
   "cell_type": "markdown",
   "metadata": {},
   "source": [
    "Para escolher uma amostra de elementos com substituição (por exemplo,\n",
    "permitindo duplicatas), você pode fazer múltiplas chamadas para `random.choices`:"
   ]
  },
  {
   "cell_type": "code",
   "execution_count": 17,
   "metadata": {},
   "outputs": [
    {
     "name": "stdout",
     "output_type": "stream",
     "text": [
      "[10, 18, 21, 27, 51, 14]\n"
     ]
    }
   ],
   "source": [
    "random_with_replacement = random.choices(lottery_numbers, k=6)\n",
    "print(random_with_replacement)"
   ]
  },
  {
   "cell_type": "markdown",
   "metadata": {},
   "source": [
    "## Expressões Regulares\n",
    "\n",
    "As expressões regulares são uma forma eficiente de procura em texto"
   ]
  },
  {
   "cell_type": "code",
   "execution_count": null,
   "metadata": {},
   "outputs": [],
   "source": [
    "import re\n",
    "\n",
    "print(\n",
    "    all(\n",
    "        [\n",
    "            not re.match(\"a\", \"cat\"),  # * 'cat' não começa com 'a'\n",
    "            re.search(\"a\", \"cat\"),  # * 'cat' possui um 'a'\n",
    "            not re.search(\"c\", \"dog\"),  # * 'dog' não possui um 'c'\n",
    "            3\n",
    "            == len(re.split(\"[ab]\", \"carbs\")),  # * divide em a ou b para ['c','r','s']\n",
    "            \"R-D\" == re.sub([0 - 9], \"R2D2\"),  # * substitui dígitos por traços\n",
    "        ]\n",
    "    )\n",
    ")  # imprime True"
   ]
  }
 ],
 "metadata": {
  "kernelspec": {
   "display_name": "ambiente-teste",
   "language": "python",
   "name": "python3"
  },
  "language_info": {
   "codemirror_mode": {
    "name": "ipython",
    "version": 3
   },
   "file_extension": ".py",
   "mimetype": "text/x-python",
   "name": "python",
   "nbconvert_exporter": "python",
   "pygments_lexer": "ipython3",
   "version": "3.12.7"
  }
 },
 "nbformat": 4,
 "nbformat_minor": 2
}
