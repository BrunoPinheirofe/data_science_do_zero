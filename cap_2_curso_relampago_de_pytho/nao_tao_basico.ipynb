{
 "cells": [
  {
   "cell_type": "markdown",
   "metadata": {},
   "source": [
    "# Não Tão Básico"
   ]
  },
  {
   "cell_type": "markdown",
   "metadata": {},
   "source": [
    "## Ordenação\n",
    "\n",
    "A ordenação de listas em Python pode ser feita de várias maneiras. A maneira mais comum é usar o método `sort()` ou a função `sorted()`.\n",
    "\n",
    "- `sort()`: Este método ordena a lista no local, ou seja, modifica a lista original.\n",
    "- `sorted()`: Esta função retorna uma nova lista ordenada a partir da lista original, sem modificar a lista original.\n",
    "\n",
    "Ambos os métodos podem receber argumentos opcionais, como `reverse=True` para ordenar em ordem decrescente e `key` para especificar uma função de chave para personalizar a ordenação."
   ]
  },
  {
   "cell_type": "code",
   "execution_count": null,
   "metadata": {},
   "outputs": [
    {
     "name": "stdout",
     "output_type": "stream",
     "text": [
      "[1, 2, 3, 4]\n",
      "[1, 2, 3, 4]\n"
     ]
    }
   ],
   "source": [
    "x = [4, 1, 2, 3]\n",
    "y = sorted(x)\n",
    "print(y)\n",
    "x.sort()\n",
    "print(x)"
   ]
  },
  {
   "cell_type": "markdown",
   "metadata": {},
   "source": [
    "Em vez de comparar os elementos\n",
    "com eles mesmos, compare os resultados da função que você especificar com\n",
    "key"
   ]
  },
  {
   "cell_type": "code",
   "execution_count": null,
   "metadata": {},
   "outputs": [],
   "source": [
    "x = sorted([-4, 1, -2, 3], key=abs, reverse=True)"
   ]
  },
  {
   "cell_type": "markdown",
   "metadata": {},
   "source": [
    "## Compreensões de Lista\n",
    "\n",
    "Podemos transformar uma lista em outra, escolhendo apenas alguns elementos, transformando tais elementos ou ambos."
   ]
  },
  {
   "cell_type": "code",
   "execution_count": 4,
   "metadata": {},
   "outputs": [
    {
     "name": "stdout",
     "output_type": "stream",
     "text": [
      "[0, 2, 4]\n",
      "[0, 1, 4, 9, 16]\n",
      "[0, 4, 16]\n"
     ]
    }
   ],
   "source": [
    "even_numbers = [x for x in range(5) if x % 2 == 0]\n",
    "print(even_numbers)\n",
    "\n",
    "squares = [x * x for x in range(5)]\n",
    "print(squares)\n",
    "\n",
    "even_squares = [x * x for x in even_numbers]\n",
    "print(even_squares)"
   ]
  },
  {
   "cell_type": "markdown",
   "metadata": {},
   "source": [
    "Podemos ter esse mesmo comportamento com os dicionários"
   ]
  },
  {
   "cell_type": "code",
   "execution_count": null,
   "metadata": {},
   "outputs": [
    {
     "name": "stdout",
     "output_type": "stream",
     "text": [
      "{0: 0, 1: 1, 2: 4, 3: 9, 4: 16}\n"
     ]
    }
   ],
   "source": [
    "square_dict = {x: x * x for x in range(5)}\n",
    "\n",
    "print(square_dict)"
   ]
  },
  {
   "cell_type": "markdown",
   "metadata": {},
   "source": [
    "Se o valor da lista não for utilizado, usamos o sublinhado como variável"
   ]
  },
  {
   "cell_type": "code",
   "execution_count": 6,
   "metadata": {},
   "outputs": [],
   "source": [
    "zeros = [0 for _ in range(5)]"
   ]
  },
  {
   "cell_type": "markdown",
   "metadata": {},
   "source": [
    "Uma compreensão de lista pode conter múltiplos `for`"
   ]
  },
  {
   "cell_type": "code",
   "execution_count": null,
   "metadata": {},
   "outputs": [
    {
     "name": "stdout",
     "output_type": "stream",
     "text": [
      "[(0, 0), (0, 1), (0, 2), (0, 3), (0, 4), (1, 0), (1, 1), (1, 2), (1, 3), (1, 4), (2, 0), (2, 1), (2, 2), (2, 3), (2, 4), (3, 0), (3, 1), (3, 2), (3, 3), (3, 4), (4, 0), (4, 1), (4, 2), (4, 3), (4, 4)]\n"
     ]
    }
   ],
   "source": [
    "pairs = [(x, y) for x in range(5) for y in range(5)]\n",
    "print(pairs)"
   ]
  },
  {
   "cell_type": "markdown",
   "metadata": {},
   "source": [
    "e os for que vêm depois podem usar os resultados dos primeiros:"
   ]
  },
  {
   "cell_type": "code",
   "execution_count": null,
   "metadata": {},
   "outputs": [
    {
     "name": "stdout",
     "output_type": "stream",
     "text": [
      "[(0, 1), (0, 2), (0, 3), (0, 4), (0, 5), (0, 6), (0, 7), (0, 8), (0, 9), (1, 2), (1, 3), (1, 4), (1, 5), (1, 6), (1, 7), (1, 8), (1, 9), (2, 3), (2, 4), (2, 5), (2, 6), (2, 7), (2, 8), (2, 9), (3, 4), (3, 5), (3, 6), (3, 7), (3, 8), (3, 9), (4, 5), (4, 6), (4, 7), (4, 8), (4, 9), (5, 6), (5, 7), (5, 8), (5, 9), (6, 7), (6, 8), (6, 9), (7, 8), (7, 9), (8, 9)]\n"
     ]
    }
   ],
   "source": [
    "increasing_pairs = [\n",
    "    (x, y)  # somente pares com x < y,\n",
    "    for x in range(10)  # range(lo, hi) é igual a\n",
    "    for y in range(x + 1, 10)\n",
    "]  # [lo, lo + 1, ..., hi - 1]\n",
    "print(increasing_pairs)"
   ]
  },
  {
   "cell_type": "markdown",
   "metadata": {},
   "source": [
    "## "
   ]
  },
  {
   "cell_type": "markdown",
   "metadata": {},
   "source": [
    "## Geradores e Iteradores\n",
    "\n",
    "Geradores são uma forma especial de iteradores em Python que permitem a criação de iteradores de maneira mais simples e eficiente. Eles são definidos usando funções e a palavra-chave `yield`.\n",
    "\n",
    "- **Funções Geradoras**: São funções que utilizam `yield` para retornar valores um de cada vez, suspendendo seu estado entre as chamadas. Quando a função é chamada novamente, a execução continua de onde parou, mantendo o estado das variáveis locais.\n",
    "\n",
    "- **Yield**: A palavra-chave `yield` é usada para produzir uma série de valores ao longo do tempo, em vez de retornar um único valor como uma função tradicional. Cada vez que `yield` é chamado, o estado da função é salvo, permitindo que a execução seja retomada posteriormente.\n",
    "\n"
   ]
  },
  {
   "cell_type": "code",
   "execution_count": null,
   "metadata": {},
   "outputs": [
    {
     "name": "stdout",
     "output_type": "stream",
     "text": [
      "0\n",
      "1\n",
      "2\n",
      "3\n",
      "4\n"
     ]
    }
   ],
   "source": [
    "def lazy_range(n):\n",
    "    \"\"\"uma versão preguisosa do range\"\"\"\n",
    "    i = 0\n",
    "    while i < n:\n",
    "        yield i\n",
    "        i += 1\n",
    "\n",
    "\n",
    "for i in lazy_range(5):\n",
    "    print(i)"
   ]
  },
  {
   "cell_type": "markdown",
   "metadata": {},
   "source": [
    "Outra forma de criar geradores é usar compreensões de `for` dentro de parênteses\n"
   ]
  },
  {
   "cell_type": "code",
   "execution_count": null,
   "metadata": {},
   "outputs": [],
   "source": [
    "lazy_envens_below_20 = (i for i in lazy_range(20) if i % 2 == 0)"
   ]
  },
  {
   "cell_type": "markdown",
   "metadata": {},
   "source": [
    "\n",
    "## Aleatoriedade\n",
    "\n",
    "Para gerar números aleatórios com python é usado o módulo `random` \n"
   ]
  },
  {
   "cell_type": "code",
   "execution_count": null,
   "metadata": {},
   "outputs": [
    {
     "name": "stdout",
     "output_type": "stream",
     "text": [
      "[0.05264137523717871, 0.6448676596995354, 0.026132424948310362, 0.8452560339026762]\n"
     ]
    }
   ],
   "source": [
    "import random\n",
    "\n",
    "four_uniform_randoms = [random.random() for _ in range(4)]\n",
    "print(four_uniform_randoms)"
   ]
  },
  {
   "cell_type": "markdown",
   "metadata": {},
   "source": [
    "O módulo `random` de fato produz números pseudoaleatórios (ou seja,\n",
    "determinísticos) baseado em um estado interno que você pode configurar com\n",
    "`random.seed` se quiser obter resultados reproduzíveis"
   ]
  },
  {
   "cell_type": "code",
   "execution_count": null,
   "metadata": {},
   "outputs": [
    {
     "name": "stdout",
     "output_type": "stream",
     "text": [
      "0.5714025946899135\n",
      "0.5714025946899135\n"
     ]
    }
   ],
   "source": [
    "random.seed(10)\n",
    "# configura seed para 10\n",
    "print(random.random())  # 0.57140259469\n",
    "random.seed(10)\n",
    "# reinicia seed para 10\n",
    "print(random.random())  # 0.57140259469 novamente"
   ]
  },
  {
   "cell_type": "markdown",
   "metadata": {},
   "source": [
    "`random.randrange` leva um ou dois argumentos e retorna um\n",
    "elemento escolhido aleatoriamente do range() correspondente"
   ]
  },
  {
   "cell_type": "code",
   "execution_count": null,
   "metadata": {},
   "outputs": [
    {
     "data": {
      "text/plain": [
       "4"
      ]
     },
     "execution_count": 13,
     "metadata": {},
     "output_type": "execute_result"
    }
   ],
   "source": [
    "random.randrange(10)  # escolhe aleatoriamente de range(10) = [0, 1, ..., 9]\n",
    "random.randrange(3, 6)  # escolhe aleatoriamente de range(3, 6) = [3, 4, 5]"
   ]
  },
  {
   "cell_type": "markdown",
   "metadata": {},
   "source": [
    "`random.shuffle` reordena os elementos de uma lista aleatoriamente"
   ]
  },
  {
   "cell_type": "code",
   "execution_count": 14,
   "metadata": {},
   "outputs": [
    {
     "name": "stdout",
     "output_type": "stream",
     "text": [
      "[4, 5, 8, 1, 2, 6, 7, 3, 0, 9]\n"
     ]
    }
   ],
   "source": [
    "up_to_ten = list(range(10))\n",
    "random.shuffle(up_to_ten)\n",
    "print(up_to_ten)"
   ]
  },
  {
   "cell_type": "markdown",
   "metadata": {},
   "source": [
    "precisar escolher aleatoriamente uma amostra dos elementos sem\n",
    "substituição (por exemplo, sem duplicatas), você pode usar `random.sample`"
   ]
  },
  {
   "cell_type": "code",
   "execution_count": null,
   "metadata": {},
   "outputs": [
    {
     "name": "stdout",
     "output_type": "stream",
     "text": [
      "[20, 4, 15, 47, 23, 2]\n"
     ]
    }
   ],
   "source": [
    "lottery_numbers = range(60)\n",
    "winning_numbers = random.sample(lottery_numbers, 6)\n",
    "print(winning_numbers)"
   ]
  },
  {
   "cell_type": "markdown",
   "metadata": {},
   "source": [
    "Para escolher uma amostra de elementos com substituição (por exemplo,\n",
    "permitindo duplicatas), você pode fazer múltiplas chamadas para `random.choices`:"
   ]
  },
  {
   "cell_type": "code",
   "execution_count": 17,
   "metadata": {},
   "outputs": [
    {
     "name": "stdout",
     "output_type": "stream",
     "text": [
      "[10, 18, 21, 27, 51, 14]\n"
     ]
    }
   ],
   "source": [
    "random_with_replacement = random.choices(lottery_numbers, k=6)\n",
    "print(random_with_replacement)"
   ]
  },
  {
   "cell_type": "markdown",
   "metadata": {},
   "source": [
    "## Expressões Regulares\n",
    "\n",
    "As expressões regulares são uma forma eficiente de procura em texto"
   ]
  },
  {
   "cell_type": "code",
   "execution_count": 4,
   "metadata": {},
   "outputs": [
    {
     "name": "stdout",
     "output_type": "stream",
     "text": [
      "True\n"
     ]
    }
   ],
   "source": [
    "import re\n",
    "\n",
    "print(\n",
    "    all(\n",
    "        [  # todos são verdadeiros porque\n",
    "            not re.match(\"a\", \"cat\"),\n",
    "            # * 'cat' não começa com 'a'\n",
    "            re.search(\"a\", \"cat\"),\n",
    "            # * 'cat' possui um 'a'\n",
    "            not re.search(\"c\", \"dog\"),\n",
    "            # * 'dog' não possui um 'c'\n",
    "            3\n",
    "            == len(re.split(\"[ab]\", \"carbs\")),  # * divide em a ou b para ['c','r','s']\n",
    "            \"R-D-\" == re.sub(\"[0-9]\", \"-\", \"R2D2\"),  # * substitui dígitos por traços\n",
    "        ]\n",
    "    )\n",
    ")  # imprime True"
   ]
  },
  {
   "cell_type": "markdown",
   "metadata": {},
   "source": [
    "## Programação Orientada a Objeto\n",
    "\n",
    "Com poo podemos definir classes que encapsulam dados e funções que as operam, As usaremos para deixar o código mais simples e limpo \n"
   ]
  },
  {
   "cell_type": "markdown",
   "metadata": {},
   "source": [
    "Imagine que não tivéssemos o set embutido em Python. Portanto, talvez\n",
    "quiséssemos criar nossa própria classe Set.\n"
   ]
  },
  {
   "cell_type": "code",
   "execution_count": 9,
   "metadata": {},
   "outputs": [],
   "source": [
    "class Set:\n",
    "    def __init__(self, values=None):\n",
    "        self.dict = {}\n",
    "        if values is not None:\n",
    "            for value in values:\n",
    "                self.add(value)\n",
    "\n",
    "    def __repr__(self):\n",
    "        return \"Set:\" + str(self.dict.keys())\n",
    "\n",
    "    def add(self, value):\n",
    "        self.dict[value] = True\n",
    "\n",
    "    def contains(self, value):\n",
    "        return value in self.dict\n",
    "\n",
    "    def remove(self, value):\n",
    "        del self.dict[value]"
   ]
  },
  {
   "cell_type": "code",
   "execution_count": 10,
   "metadata": {},
   "outputs": [
    {
     "name": "stdout",
     "output_type": "stream",
     "text": [
      "True\n",
      "False\n"
     ]
    }
   ],
   "source": [
    "s = Set([1, 2, 3])\n",
    "s.add(4)\n",
    "print(s.contains(4))\n",
    "s.remove(3)\n",
    "print(s.contains(3))"
   ]
  },
  {
   "cell_type": "markdown",
   "metadata": {},
   "source": [
    "## Ferramentas Funcionais\n",
    "\n",
    "Para aplicar funções de forma parcial para criar novas funções, como por exemplo:\n"
   ]
  },
  {
   "cell_type": "code",
   "execution_count": 11,
   "metadata": {},
   "outputs": [],
   "source": [
    "def exp(base, power):\n",
    "    return base**power"
   ]
  },
  {
   "cell_type": "markdown",
   "metadata": {},
   "source": [
    "desejamos usa-lá para criar uma função de uma variável = `two_to_the` onde a entrada é um `power` e a saída seja o resultado de `exp(2, power)`:\n"
   ]
  },
  {
   "cell_type": "code",
   "execution_count": 12,
   "metadata": {},
   "outputs": [],
   "source": [
    "def tow_to_the(power):\n",
    "    return exp(2,power)"
   ]
  },
  {
   "cell_type": "markdown",
   "metadata": {},
   "source": [
    "Um jeito diferente de fazer isso seria com o `functools.partial`:\n"
   ]
  },
  {
   "cell_type": "code",
   "execution_count": null,
   "metadata": {},
   "outputs": [],
   "source": [
    "from functools import partial\n",
    "\n",
    "from functools import partial\n",
    "two_to_the = partial(exp, 2) # agora é uma função de uma variável\n",
    "print(two_to_the(3))\n",
    "#8"
   ]
  },
  {
   "cell_type": "markdown",
   "metadata": {},
   "source": [
    "## Enumeração (enumerate)\n",
    "\n",
    "O `enumerate` retorna tuplas (index, elemento):\n"
   ]
  },
  {
   "cell_type": "code",
   "execution_count": null,
   "metadata": {},
   "outputs": [],
   "source": [
    "# não é Pythonic\n",
    "# for i in range(len(documents)):\n",
    "    # document = documents[i]\n",
    "    # do_something(i, document)\n",
    "    # # também não é Pythonic\n",
    "    # i=0\n",
    "    # for document in documents:\n",
    "    # do_something(i, document)\n",
    "    # i += 1"
   ]
  },
  {
   "cell_type": "markdown",
   "metadata": {},
   "source": [
    "## Descompactação de Zip e Argumentos\n",
    "\n",
    "O `zip`(compactar) transforma listas múltiplas em uma única lista de tuplas de elementos correspondentes:"
   ]
  },
  {
   "cell_type": "code",
   "execution_count": null,
   "metadata": {},
   "outputs": [
    {
     "name": "stdout",
     "output_type": "stream",
     "text": [
      "<zip object at 0x7b22258f37c0>\n"
     ]
    }
   ],
   "source": [
    "lista1 = [1,2,3,4]\n",
    "lista2 = ['a','b','c']\n",
    "\n",
    "lista_zip = zip(lista1,lista2) # é [('a', 1), ('b', 2), ('c', 3)]\n",
    "\n"
   ]
  },
  {
   "cell_type": "markdown",
   "metadata": {},
   "source": [
    "também podemos descompactar uma lista usando um truque curioso:\n"
   ]
  },
  {
   "cell_type": "code",
   "execution_count": null,
   "metadata": {},
   "outputs": [],
   "source": [
    "pairs = [('a', 1), ('b', 2), ('c', 3)]\n",
    "letters, numbers = zip(*pairs)\n"
   ]
  },
  {
   "cell_type": "markdown",
   "metadata": {},
   "source": [
    "## args e kwargs\n",
    "\n",
    "quando definimos uma função, args é uma tupla dos seus argumentos sem nome e kwargs é um dict dos seus argumentos com nome.\n",
    "Funciona da forma contrária também, se você quiser usar uma list (ou tuple) e dict\n",
    "para fornecer argumentos para uma função:"
   ]
  },
  {
   "cell_type": "code",
   "execution_count": null,
   "metadata": {},
   "outputs": [],
   "source": [
    "def other_way_magic(x, y, z):\n",
    "    return x + y + z\n",
    "x_y_list = [1, 2]\n",
    "z_dict = { \"z\" : 3 }\n",
    "print(other_way_magic(*x_y_list, **z_dict)) # 6"
   ]
  }
 ],
 "metadata": {
  "kernelspec": {
   "display_name": "ambiente-teste",
   "language": "python",
   "name": "python3"
  },
  "language_info": {
   "codemirror_mode": {
    "name": "ipython",
    "version": 3
   },
   "file_extension": ".py",
   "mimetype": "text/x-python",
   "name": "python",
   "nbconvert_exporter": "python",
   "pygments_lexer": "ipython3",
   "version": "3.12.7"
  }
 },
 "nbformat": 4,
 "nbformat_minor": 2
}
